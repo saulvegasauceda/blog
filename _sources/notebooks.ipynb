{
 "cells": [
  {
   "cell_type": "markdown",
   "id": "f2ebcd10-540b-4479-9e2a-4cbfe192179b",
   "metadata": {},
   "source": [
    "# Evaluating MAGIC with Synthetic Dataset"
   ]
  },
  {
   "cell_type": "markdown",
   "id": "1c0382cc-1a4f-49bd-98a4-859fda0cc9e5",
   "metadata": {},
   "source": [
    "[MAGIC](https://github.com/KrishnaswamyLab/MAGIC) is an imputation tool developed at the [Broad Institute](https://www.broadinstitute.org) for single cell RNA-sequencing (scNRA-seq) data. Imputation can potentially help improve downstream analysis in scRNA-seq data pipelines due to the potential of denoising the high dropout rates (errerroneously observed 0s) that currently obscure gene-gene relationships. Despite this promise, MAGIC has failed to receive universal support on whether it successfully recuperates lost information. This is an attempt to discover the effects of MAGIC on a synthetic dataset to determine whether it claims holds true for a simple test case."
   ]
  },
  {
   "cell_type": "code",
   "execution_count": 27,
   "id": "89da327f-fbb2-443a-8647-3391fefbe2ed",
   "metadata": {},
   "outputs": [],
   "source": [
    "# imports"
   ]
  },
  {
   "cell_type": "code",
   "execution_count": 28,
   "id": "ba87e8a2-7902-44d8-b200-a9510434bf61",
   "metadata": {},
   "outputs": [],
   "source": [
    "import magic\n",
    "import pandas as pd \n",
    "import seaborn as sns\n",
    "import scanpy as sc\n",
    "import numpy as np\n",
    "import scanpy.external as sce\n",
    "from numpy.random import seed\n",
    "from numpy.random import normal\n",
    "from random import sample\n",
    "from random import choices\n",
    "from scipy.stats import rv_discrete, rv_continuous\n",
    "from scipy.stats import nbinom"
   ]
  },
  {
   "cell_type": "code",
   "execution_count": null,
   "id": "c9156ec4-0d65-43a2-84a6-c639560312ef",
   "metadata": {},
   "outputs": [],
   "source": [
    "# Functions"
   ]
  },
  {
   "cell_type": "code",
   "execution_count": 29,
   "id": "b5ae2ecf-b338-46ee-ba33-7b76f2741795",
   "metadata": {},
   "outputs": [],
   "source": [
    "def create_synthetic_cells(rna_species_char, p, number_cells=100):\n",
    "    '''\n",
    "    Inputs\n",
    "    --------\n",
    "    p: the probability of a single success (parameter to scipy.stats.nbinom)\n",
    "    rna_species_char: List of size N representing the profile of N RNA species\n",
    "    number_cells: number of cells (rows) in synthetic dataset\n",
    "    \n",
    "    Sampling using a negative binomial distribution where n = # of median RNA\n",
    "    \n",
    "    Outputs\n",
    "    --------\n",
    "    Pandas dataframe of size (number_cells x N) where each row represents a cell\n",
    "    sampled from rna_species_char.\n",
    "    '''\n",
    "    cell_generator = [nbinom(n, p) for n in rna_species_char]\n",
    "    df = pd.DataFrame([dist.rvs(number_cells) for dist in cell_generator]).T\n",
    "    df = df.set_axis([f\"Gene {g + 1}\" for g in range(len(df.columns))], axis=1, inplace=False)\n",
    "    return df\n",
    "\n",
    "def artificially_sample_cells(true_cells_df, capture_rate):\n",
    "    '''\n",
    "    Simulating Bernoulli sampling with synthetic dataset \n",
    "    where p = capture_rate (p := probability RNA is included in set)\n",
    "    '''\n",
    "    return true_cells_df.applymap(lambda x: sim_capture(x, p=capture_rate))\n",
    "\n",
    "def ready_for_plot():\n",
    "    merfish_repr[\"Model\"] = \"MERFISH\"\n",
    "    tenx_repr[\"Model\"] = \"10X synthetic\"\n",
    "    return pd.concat([merfish_repr, tenx_repr])\n",
    "\n",
    "def rescale_data(data, target_data, rescale):\n",
    "    '''\n",
    "    Function from older version of MAGIC to rescale after imputation\n",
    "    '''\n",
    "    if rescale == 0:\n",
    "        return data\n",
    "    else:\n",
    "        data[data < 0] = 0\n",
    "        M99 = np.percentile(target_data, rescale, axis=0)\n",
    "        M100 = target_data.max(axis=0)\n",
    "        indices = np.where(M99 == 0)[0]\n",
    "        M99[indices] = M100[indices]\n",
    "        M99_new = np.percentile(data, rescale, axis=0)\n",
    "        M100_new = data.max(axis=0)\n",
    "        indices = np.where(M99_new == 0)[0]\n",
    "        M99_new[indices] = M100_new[indices]\n",
    "        max_ratio = np.divide(M99, M99_new)\n",
    "        data = np.multiply(data, np.tile(max_ratio,\n",
    "                                      (target_data.shape[0], 1)))\n",
    "    return data"
   ]
  },
  {
   "cell_type": "markdown",
   "id": "2f3427ef-ea32-4340-b286-dd94cca65276",
   "metadata": {},
   "source": [
    "## 1. Generating Synthetic Dataset"
   ]
  },
  {
   "cell_type": "markdown",
   "id": "cc9536e2-bc70-4ce0-b341-b681a1e3f6d9",
   "metadata": {},
   "source": [
    "### 1.1: Intro to MERFISH & 10x scRNA-seq\n",
    "\n",
    "Two popular methods for measuring RNA species post-mortem are: [MERFISH](https://www.science.org/doi/10.1126/science.aaa6090) & [10x scRNA-seq](https://www.10xgenomics.com/blog/single-cell-rna-seq-an-introductory-overview-and-tools-for-getting-started). Both these methods are able to identify which cells within a tissue sample a given mRNA molecule comes from. Besides MERFISH being a fluorescent approach and 10x scRNA-seq utilizes sequencing, they differ in their capture rates and number of observed RNA species. MERFISH is limited by the visual spectrum, thus, can only observe an order of ~100 RNA species but with a capture rate of ~90% (fraction of RNA transcripts observerd within the ~100 RNA species). Meanwhile, 10x scRNA-seq is not bound by the observed RNA species but observe mRNA with a [much lower capture rate of 30-32%](https://kb.10xgenomics.com/hc/en-us/articles/360001539051-What-fraction-of-mRNA-transcripts-are-captured-per-cell-)."
   ]
  },
  {
   "cell_type": "markdown",
   "id": "8b96950c-629a-42e5-bf9b-b9a6d6662480",
   "metadata": {},
   "source": [
    "### 1.2: Generating synthetic cells and simulating both MERFISH & 10x scRNA-seq\n",
    "\n",
    "Sampling using a negative binomial distribution for the cells we will determine as the ground truth. Then, simulating both MERFISH & 10x scRNA-seq as a Bernoulli process with the capture rate serving as the probability of a success."
   ]
  },
  {
   "cell_type": "code",
   "execution_count": 40,
   "id": "643ed50e-bb42-4e44-a679-a60b60b864ce",
   "metadata": {},
   "outputs": [],
   "source": [
    "Rna_species_characteristic_numbers = [1, 3, 10, 30, 100, 300, 1000, 3000, 10000]\n",
    "\n",
    "synth_cells = create_synthetic_cells(Rna_species_characteristic_numbers, p=0.5)\n",
    "merfish_original_synth = artificially_sample_cells(synth_cells, 0.9)\n",
    "tenx_original_synth = artificially_sample_cells(synth_cells, 0.3)\n",
    "\n",
    "synth_cells[\"Model\"] = \"Ground Truth\"\n",
    "merfish_original_synth[\"Model\"] = \"MERFISH\"\n",
    "tenx_original_synth[\"Model\"] = \"10x scRNA-seq\""
   ]
  },
  {
   "cell_type": "markdown",
   "id": "28574282-4928-4cf0-ada7-633db7bb8f34",
   "metadata": {},
   "source": [
    "### 1.3: Data\n",
    "#### Peeking at the data:"
   ]
  },
  {
   "cell_type": "markdown",
   "id": "affb2117-87b1-4a3b-9e60-23903fef1a3c",
   "metadata": {},
   "source": [
    "##### Synthetic Data:"
   ]
  },
  {
   "cell_type": "code",
   "execution_count": 41,
   "id": "832d6ad6-10f1-41b9-879a-f0d5243d5721",
   "metadata": {},
   "outputs": [
    {
     "data": {
      "text/html": [
       "<div>\n",
       "<style scoped>\n",
       "    .dataframe tbody tr th:only-of-type {\n",
       "        vertical-align: middle;\n",
       "    }\n",
       "\n",
       "    .dataframe tbody tr th {\n",
       "        vertical-align: top;\n",
       "    }\n",
       "\n",
       "    .dataframe thead th {\n",
       "        text-align: right;\n",
       "    }\n",
       "</style>\n",
       "<table border=\"1\" class=\"dataframe\">\n",
       "  <thead>\n",
       "    <tr style=\"text-align: right;\">\n",
       "      <th></th>\n",
       "      <th>Gene 1</th>\n",
       "      <th>Gene 2</th>\n",
       "      <th>Gene 3</th>\n",
       "      <th>Gene 4</th>\n",
       "      <th>Gene 5</th>\n",
       "      <th>Gene 6</th>\n",
       "      <th>Gene 7</th>\n",
       "      <th>Gene 8</th>\n",
       "      <th>Gene 9</th>\n",
       "      <th>Model</th>\n",
       "    </tr>\n",
       "  </thead>\n",
       "  <tbody>\n",
       "    <tr>\n",
       "      <th>0</th>\n",
       "      <td>0</td>\n",
       "      <td>4</td>\n",
       "      <td>8</td>\n",
       "      <td>35</td>\n",
       "      <td>130</td>\n",
       "      <td>329</td>\n",
       "      <td>1088</td>\n",
       "      <td>2990</td>\n",
       "      <td>10203</td>\n",
       "      <td>Ground Truth</td>\n",
       "    </tr>\n",
       "    <tr>\n",
       "      <th>1</th>\n",
       "      <td>3</td>\n",
       "      <td>1</td>\n",
       "      <td>14</td>\n",
       "      <td>36</td>\n",
       "      <td>83</td>\n",
       "      <td>323</td>\n",
       "      <td>1046</td>\n",
       "      <td>3180</td>\n",
       "      <td>9975</td>\n",
       "      <td>Ground Truth</td>\n",
       "    </tr>\n",
       "    <tr>\n",
       "      <th>2</th>\n",
       "      <td>2</td>\n",
       "      <td>4</td>\n",
       "      <td>20</td>\n",
       "      <td>28</td>\n",
       "      <td>78</td>\n",
       "      <td>204</td>\n",
       "      <td>972</td>\n",
       "      <td>2977</td>\n",
       "      <td>10242</td>\n",
       "      <td>Ground Truth</td>\n",
       "    </tr>\n",
       "    <tr>\n",
       "      <th>3</th>\n",
       "      <td>0</td>\n",
       "      <td>5</td>\n",
       "      <td>6</td>\n",
       "      <td>39</td>\n",
       "      <td>119</td>\n",
       "      <td>330</td>\n",
       "      <td>934</td>\n",
       "      <td>2950</td>\n",
       "      <td>9996</td>\n",
       "      <td>Ground Truth</td>\n",
       "    </tr>\n",
       "    <tr>\n",
       "      <th>4</th>\n",
       "      <td>0</td>\n",
       "      <td>5</td>\n",
       "      <td>7</td>\n",
       "      <td>38</td>\n",
       "      <td>92</td>\n",
       "      <td>296</td>\n",
       "      <td>952</td>\n",
       "      <td>2970</td>\n",
       "      <td>10206</td>\n",
       "      <td>Ground Truth</td>\n",
       "    </tr>\n",
       "  </tbody>\n",
       "</table>\n",
       "</div>"
      ],
      "text/plain": [
       "   Gene 1  Gene 2  Gene 3  Gene 4  Gene 5  Gene 6  Gene 7  Gene 8  Gene 9  \\\n",
       "0       0       4       8      35     130     329    1088    2990   10203   \n",
       "1       3       1      14      36      83     323    1046    3180    9975   \n",
       "2       2       4      20      28      78     204     972    2977   10242   \n",
       "3       0       5       6      39     119     330     934    2950    9996   \n",
       "4       0       5       7      38      92     296     952    2970   10206   \n",
       "\n",
       "          Model  \n",
       "0  Ground Truth  \n",
       "1  Ground Truth  \n",
       "2  Ground Truth  \n",
       "3  Ground Truth  \n",
       "4  Ground Truth  "
      ]
     },
     "execution_count": 41,
     "metadata": {},
     "output_type": "execute_result"
    }
   ],
   "source": [
    "synth_cells.head()"
   ]
  },
  {
   "cell_type": "markdown",
   "id": "a3c11bfe-ea68-4300-81f2-727408636c2d",
   "metadata": {},
   "source": [
    "##### MERFISH data:"
   ]
  },
  {
   "cell_type": "code",
   "execution_count": 42,
   "id": "3950d25d-a0dc-499d-95b8-2a5210f53278",
   "metadata": {},
   "outputs": [
    {
     "data": {
      "text/html": [
       "<div>\n",
       "<style scoped>\n",
       "    .dataframe tbody tr th:only-of-type {\n",
       "        vertical-align: middle;\n",
       "    }\n",
       "\n",
       "    .dataframe tbody tr th {\n",
       "        vertical-align: top;\n",
       "    }\n",
       "\n",
       "    .dataframe thead th {\n",
       "        text-align: right;\n",
       "    }\n",
       "</style>\n",
       "<table border=\"1\" class=\"dataframe\">\n",
       "  <thead>\n",
       "    <tr style=\"text-align: right;\">\n",
       "      <th></th>\n",
       "      <th>Gene 1</th>\n",
       "      <th>Gene 2</th>\n",
       "      <th>Gene 3</th>\n",
       "      <th>Gene 4</th>\n",
       "      <th>Gene 5</th>\n",
       "      <th>Gene 6</th>\n",
       "      <th>Gene 7</th>\n",
       "      <th>Gene 8</th>\n",
       "      <th>Gene 9</th>\n",
       "      <th>Model</th>\n",
       "    </tr>\n",
       "  </thead>\n",
       "  <tbody>\n",
       "    <tr>\n",
       "      <th>0</th>\n",
       "      <td>0</td>\n",
       "      <td>4</td>\n",
       "      <td>8</td>\n",
       "      <td>32</td>\n",
       "      <td>117</td>\n",
       "      <td>297</td>\n",
       "      <td>975</td>\n",
       "      <td>2690</td>\n",
       "      <td>9220</td>\n",
       "      <td>MERFISH</td>\n",
       "    </tr>\n",
       "    <tr>\n",
       "      <th>1</th>\n",
       "      <td>3</td>\n",
       "      <td>1</td>\n",
       "      <td>11</td>\n",
       "      <td>34</td>\n",
       "      <td>68</td>\n",
       "      <td>290</td>\n",
       "      <td>939</td>\n",
       "      <td>2866</td>\n",
       "      <td>8993</td>\n",
       "      <td>MERFISH</td>\n",
       "    </tr>\n",
       "    <tr>\n",
       "      <th>2</th>\n",
       "      <td>2</td>\n",
       "      <td>4</td>\n",
       "      <td>18</td>\n",
       "      <td>27</td>\n",
       "      <td>67</td>\n",
       "      <td>188</td>\n",
       "      <td>864</td>\n",
       "      <td>2688</td>\n",
       "      <td>9205</td>\n",
       "      <td>MERFISH</td>\n",
       "    </tr>\n",
       "    <tr>\n",
       "      <th>3</th>\n",
       "      <td>0</td>\n",
       "      <td>5</td>\n",
       "      <td>6</td>\n",
       "      <td>34</td>\n",
       "      <td>108</td>\n",
       "      <td>297</td>\n",
       "      <td>838</td>\n",
       "      <td>2671</td>\n",
       "      <td>8975</td>\n",
       "      <td>MERFISH</td>\n",
       "    </tr>\n",
       "    <tr>\n",
       "      <th>4</th>\n",
       "      <td>0</td>\n",
       "      <td>4</td>\n",
       "      <td>7</td>\n",
       "      <td>33</td>\n",
       "      <td>84</td>\n",
       "      <td>261</td>\n",
       "      <td>855</td>\n",
       "      <td>2655</td>\n",
       "      <td>9162</td>\n",
       "      <td>MERFISH</td>\n",
       "    </tr>\n",
       "  </tbody>\n",
       "</table>\n",
       "</div>"
      ],
      "text/plain": [
       "   Gene 1  Gene 2  Gene 3  Gene 4  Gene 5  Gene 6  Gene 7  Gene 8  Gene 9  \\\n",
       "0       0       4       8      32     117     297     975    2690    9220   \n",
       "1       3       1      11      34      68     290     939    2866    8993   \n",
       "2       2       4      18      27      67     188     864    2688    9205   \n",
       "3       0       5       6      34     108     297     838    2671    8975   \n",
       "4       0       4       7      33      84     261     855    2655    9162   \n",
       "\n",
       "     Model  \n",
       "0  MERFISH  \n",
       "1  MERFISH  \n",
       "2  MERFISH  \n",
       "3  MERFISH  \n",
       "4  MERFISH  "
      ]
     },
     "execution_count": 42,
     "metadata": {},
     "output_type": "execute_result"
    }
   ],
   "source": [
    "merfish_original_synth.head(5)"
   ]
  },
  {
   "cell_type": "markdown",
   "id": "6f3d1ac8-e61f-4fd7-abe7-8ea927062f59",
   "metadata": {},
   "source": [
    "##### 10x scRNA-seq data:"
   ]
  },
  {
   "cell_type": "code",
   "execution_count": 43,
   "id": "55226780-e1dc-4d75-a468-c92ae06db8d9",
   "metadata": {},
   "outputs": [
    {
     "data": {
      "text/html": [
       "<div>\n",
       "<style scoped>\n",
       "    .dataframe tbody tr th:only-of-type {\n",
       "        vertical-align: middle;\n",
       "    }\n",
       "\n",
       "    .dataframe tbody tr th {\n",
       "        vertical-align: top;\n",
       "    }\n",
       "\n",
       "    .dataframe thead th {\n",
       "        text-align: right;\n",
       "    }\n",
       "</style>\n",
       "<table border=\"1\" class=\"dataframe\">\n",
       "  <thead>\n",
       "    <tr style=\"text-align: right;\">\n",
       "      <th></th>\n",
       "      <th>Gene 1</th>\n",
       "      <th>Gene 2</th>\n",
       "      <th>Gene 3</th>\n",
       "      <th>Gene 4</th>\n",
       "      <th>Gene 5</th>\n",
       "      <th>Gene 6</th>\n",
       "      <th>Gene 7</th>\n",
       "      <th>Gene 8</th>\n",
       "      <th>Gene 9</th>\n",
       "      <th>Model</th>\n",
       "    </tr>\n",
       "  </thead>\n",
       "  <tbody>\n",
       "    <tr>\n",
       "      <th>0</th>\n",
       "      <td>0</td>\n",
       "      <td>2</td>\n",
       "      <td>1</td>\n",
       "      <td>10</td>\n",
       "      <td>33</td>\n",
       "      <td>99</td>\n",
       "      <td>348</td>\n",
       "      <td>887</td>\n",
       "      <td>3021</td>\n",
       "      <td>10x scRNA-seq</td>\n",
       "    </tr>\n",
       "    <tr>\n",
       "      <th>1</th>\n",
       "      <td>0</td>\n",
       "      <td>0</td>\n",
       "      <td>2</td>\n",
       "      <td>12</td>\n",
       "      <td>31</td>\n",
       "      <td>97</td>\n",
       "      <td>316</td>\n",
       "      <td>983</td>\n",
       "      <td>3053</td>\n",
       "      <td>10x scRNA-seq</td>\n",
       "    </tr>\n",
       "    <tr>\n",
       "      <th>2</th>\n",
       "      <td>0</td>\n",
       "      <td>1</td>\n",
       "      <td>6</td>\n",
       "      <td>5</td>\n",
       "      <td>27</td>\n",
       "      <td>66</td>\n",
       "      <td>298</td>\n",
       "      <td>901</td>\n",
       "      <td>3086</td>\n",
       "      <td>10x scRNA-seq</td>\n",
       "    </tr>\n",
       "    <tr>\n",
       "      <th>3</th>\n",
       "      <td>0</td>\n",
       "      <td>2</td>\n",
       "      <td>1</td>\n",
       "      <td>16</td>\n",
       "      <td>35</td>\n",
       "      <td>103</td>\n",
       "      <td>290</td>\n",
       "      <td>903</td>\n",
       "      <td>3030</td>\n",
       "      <td>10x scRNA-seq</td>\n",
       "    </tr>\n",
       "    <tr>\n",
       "      <th>4</th>\n",
       "      <td>0</td>\n",
       "      <td>1</td>\n",
       "      <td>3</td>\n",
       "      <td>17</td>\n",
       "      <td>28</td>\n",
       "      <td>83</td>\n",
       "      <td>289</td>\n",
       "      <td>911</td>\n",
       "      <td>3047</td>\n",
       "      <td>10x scRNA-seq</td>\n",
       "    </tr>\n",
       "  </tbody>\n",
       "</table>\n",
       "</div>"
      ],
      "text/plain": [
       "   Gene 1  Gene 2  Gene 3  Gene 4  Gene 5  Gene 6  Gene 7  Gene 8  Gene 9  \\\n",
       "0       0       2       1      10      33      99     348     887    3021   \n",
       "1       0       0       2      12      31      97     316     983    3053   \n",
       "2       0       1       6       5      27      66     298     901    3086   \n",
       "3       0       2       1      16      35     103     290     903    3030   \n",
       "4       0       1       3      17      28      83     289     911    3047   \n",
       "\n",
       "           Model  \n",
       "0  10x scRNA-seq  \n",
       "1  10x scRNA-seq  \n",
       "2  10x scRNA-seq  \n",
       "3  10x scRNA-seq  \n",
       "4  10x scRNA-seq  "
      ]
     },
     "execution_count": 43,
     "metadata": {},
     "output_type": "execute_result"
    }
   ],
   "source": [
    "tenx_original_synth.head(5)"
   ]
  },
  {
   "cell_type": "markdown",
   "id": "5fac8ec1-5f47-4843-b107-5a1e5775672a",
   "metadata": {},
   "source": [
    "#### Plotting data:"
   ]
  },
  {
   "cell_type": "code",
   "execution_count": 49,
   "id": "a911d634-5793-4706-a3d0-f4572c3552ce",
   "metadata": {},
   "outputs": [
    {
     "data": {
      "text/plain": [
       "<AxesSubplot:xlabel='Gene 1', ylabel='Gene 2'>"
      ]
     },
     "execution_count": 49,
     "metadata": {},
     "output_type": "execute_result"
    },
    {
     "data": {
      "image/png": "[encoded data removed]",
      "text/plain": [
       "<Figure size 432x288 with 1 Axes>"
      ]
     },
     "metadata": {
      "needs_background": "light"
     },
     "output_type": "display_data"
    }
   ],
   "source": [
    "before_imputation = pd.concat([synth_cells, merfish_original_synth, tenx_original_synth], ignore_index=True)\n",
    "sns.kdeplot(data=before_imputation, x=\"Gene 1\", y =\"Gene 2\", hue=\"Model\", alpha=0.2, fill=True)"
   ]
  },
  {
   "cell_type": "markdown",
   "id": "05b08577-1470-465a-a83d-4d9996dcf912",
   "metadata": {},
   "source": [
    "## 2. Imputation"
   ]
  },
  {
   "cell_type": "markdown",
   "id": "aa61b24f-e3ec-4312-a129-47067e62db1d",
   "metadata": {},
   "source": [
    "### 2.1: Normalization\n",
    "\n",
    "Normalizing the RNA counts as a processing step for MAGIC. Using the MERFISH as basis for normalized sum to compare downstream. Before MAGIC, the 10x scRNA-seq data is normalized by the median RNA count of the dataset, then the values are square rooted."
   ]
  },
  {
   "cell_type": "code",
   "execution_count": 57,
   "id": "0b227875-63cc-4bc2-96ec-80cf36b20661",
   "metadata": {},
   "outputs": [
    {
     "name": "stderr",
     "output_type": "stream",
     "text": [
      "/var/folders/w5/qsmlzn8n4b9dzq_r63twss1h0000gn/T/ipykernel_42229/3528827175.py:9: FutureWarning: X.dtype being converted to np.float32 from int64. In the next version of anndata (0.9) conversion will not be automatic. Pass dtype explicitly to avoid this warning. Pass `AnnData(X, dtype=X.dtype, ...)` to get the future behavour.\n",
      "  merfish_repr = sc.AnnData(merfish_original_synth)\n",
      "/Users/saulvegasauceda/opt/anaconda3/envs/magic-env/lib/python3.10/site-packages/anndata/_core/anndata.py:121: ImplicitModificationWarning: Transforming to str index.\n",
      "  warnings.warn(\"Transforming to str index.\", ImplicitModificationWarning)\n",
      "/var/folders/w5/qsmlzn8n4b9dzq_r63twss1h0000gn/T/ipykernel_42229/3528827175.py:10: FutureWarning: X.dtype being converted to np.float32 from int64. In the next version of anndata (0.9) conversion will not be automatic. Pass dtype explicitly to avoid this warning. Pass `AnnData(X, dtype=X.dtype, ...)` to get the future behavour.\n",
      "  tenx_repr = sc.AnnData(tenx_original_synth)\n"
     ]
    }
   ],
   "source": [
    "merfish_original_synth = merfish_original_synth.drop(columns=[\"Model\"])\n",
    "tenx_original_synth = tenx_original_synth.drop(columns=[\"Model\"])\n",
    "\n",
    "# obtaining target sum for normalization\n",
    "merfish_rna_counts = merfish_original_synth.sum(axis=1)\n",
    "normalized_sum = int(merfish_rna_counts.median())\n",
    "\n",
    "# Normalizing dataset\n",
    "merfish_repr = sc.AnnData(merfish_original_synth)\n",
    "tenx_repr = sc.AnnData(tenx_original_synth)\n",
    "\n",
    "sc.pp.normalize_total(merfish_repr, target_sum=normalized_sum)\n",
    "tenx_norm = tenx_repr.copy()\n",
    "sc.pp.normalize_total(tenx_norm, target_sum=normalized_sum)\n",
    "\n",
    "sc.pp.normalize_total(tenx_repr)\n",
    "tenx_raw = tenx_repr.to_df() # use later for rescaling\n",
    "sc.pp.sqrt(tenx_repr)"
   ]
  },
  {
   "cell_type": "markdown",
   "id": "35b71192-dbd9-4818-a7ee-a638fbe92925",
   "metadata": {},
   "source": [
    "### 2.2: Running MAGIC\n",
    "\n",
    "Running MAGIC with default parameters and normalizing the imputed counts back to the basis of the MERFISH median by squaring and normalizing sum."
   ]
  },
  {
   "cell_type": "code",
   "execution_count": 58,
   "id": "8b00795a-c647-4653-a669-1a61473556d3",
   "metadata": {},
   "outputs": [
    {
     "name": "stderr",
     "output_type": "stream",
     "text": [
      "/Users/saulvegasauceda/.local/lib/python3.10/site-packages/magic/utils.py:145: FutureWarning: X.dtype being converted to np.float32 from float64. In the next version of anndata (0.9) conversion will not be automatic. Pass dtype explicitly to avoid this warning. Pass `AnnData(X, dtype=X.dtype, ...)` to get the future behavour.\n",
      "  data = anndata.AnnData(data)\n"
     ]
    }
   ],
   "source": [
    "sce.pp.magic(tenx_repr, name_list='all_genes', solver='exact', n_jobs=-1)\n",
    "tenx_repr.X = tenx_repr.X**2"
   ]
  },
  {
   "cell_type": "markdown",
   "id": "b7f8750d-1b8f-4e84-a320-b9530fb3abd0",
   "metadata": {},
   "source": [
    "### 2.3: Rescaling Imputed Counts\n",
    "\n",
    "Duplicating the results of MAGIC to determine whether rescaling after imputation is still necessary."
   ]
  },
  {
   "cell_type": "code",
   "execution_count": 61,
   "id": "6ae09b56-01a0-4d24-8e4f-c35c57682cc5",
   "metadata": {},
   "outputs": [
    {
     "name": "stderr",
     "output_type": "stream",
     "text": [
      "/var/folders/w5/qsmlzn8n4b9dzq_r63twss1h0000gn/T/ipykernel_42229/2028333819.py:4: FutureWarning: X.dtype being converted to np.float32 from float64. In the next version of anndata (0.9) conversion will not be automatic. Pass dtype explicitly to avoid this warning. Pass `AnnData(X, dtype=X.dtype, ...)` to get the future behavour.\n",
      "  imputed_rescaled = sc.AnnData(imputed_rescaled_df)\n"
     ]
    }
   ],
   "source": [
    "tenx_rescaled_norm = tenx_repr.copy()\n",
    "imputed_rescaled_df = tenx_rescaled_norm.to_df()\n",
    "imputed_rescaled_df = rescale_data(imputed_rescaled_df, tenx_raw, 99)\n",
    "imputed_rescaled = sc.AnnData(imputed_rescaled_df)"
   ]
  },
  {
   "cell_type": "code",
   "execution_count": 62,
   "id": "d7df79fd-edd3-4a97-9980-73ff907481ca",
   "metadata": {},
   "outputs": [
    {
     "data": {
      "text/html": [
       "<div>\n",
       "<style scoped>\n",
       "    .dataframe tbody tr th:only-of-type {\n",
       "        vertical-align: middle;\n",
       "    }\n",
       "\n",
       "    .dataframe tbody tr th {\n",
       "        vertical-align: top;\n",
       "    }\n",
       "\n",
       "    .dataframe thead th {\n",
       "        text-align: right;\n",
       "    }\n",
       "</style>\n",
       "<table border=\"1\" class=\"dataframe\">\n",
       "  <thead>\n",
       "    <tr style=\"text-align: right;\">\n",
       "      <th></th>\n",
       "      <th>Gene 1</th>\n",
       "      <th>Gene 2</th>\n",
       "      <th>Gene 3</th>\n",
       "      <th>Gene 4</th>\n",
       "      <th>Gene 5</th>\n",
       "      <th>Gene 6</th>\n",
       "      <th>Gene 7</th>\n",
       "      <th>Gene 8</th>\n",
       "      <th>Gene 9</th>\n",
       "    </tr>\n",
       "  </thead>\n",
       "  <tbody>\n",
       "    <tr>\n",
       "      <th>0</th>\n",
       "      <td>0.109854</td>\n",
       "      <td>2.720782</td>\n",
       "      <td>3.535385</td>\n",
       "      <td>12.874616</td>\n",
       "      <td>45.551599</td>\n",
       "      <td>110.030586</td>\n",
       "      <td>340.665033</td>\n",
       "      <td>955.981629</td>\n",
       "      <td>3053.801167</td>\n",
       "    </tr>\n",
       "    <tr>\n",
       "      <th>1</th>\n",
       "      <td>0.199255</td>\n",
       "      <td>0.210340</td>\n",
       "      <td>5.172939</td>\n",
       "      <td>15.272042</td>\n",
       "      <td>45.068107</td>\n",
       "      <td>110.081070</td>\n",
       "      <td>329.065819</td>\n",
       "      <td>972.461709</td>\n",
       "      <td>3047.863438</td>\n",
       "    </tr>\n",
       "    <tr>\n",
       "      <th>2</th>\n",
       "      <td>0.255513</td>\n",
       "      <td>1.376472</td>\n",
       "      <td>7.025949</td>\n",
       "      <td>11.961586</td>\n",
       "      <td>42.637731</td>\n",
       "      <td>100.624614</td>\n",
       "      <td>326.284412</td>\n",
       "      <td>952.080428</td>\n",
       "      <td>3080.485325</td>\n",
       "    </tr>\n",
       "    <tr>\n",
       "      <th>3</th>\n",
       "      <td>0.178783</td>\n",
       "      <td>2.329816</td>\n",
       "      <td>4.375157</td>\n",
       "      <td>16.595897</td>\n",
       "      <td>45.094219</td>\n",
       "      <td>111.648490</td>\n",
       "      <td>327.776019</td>\n",
       "      <td>957.535278</td>\n",
       "      <td>3060.468843</td>\n",
       "    </tr>\n",
       "    <tr>\n",
       "      <th>4</th>\n",
       "      <td>0.236692</td>\n",
       "      <td>1.657093</td>\n",
       "      <td>6.129715</td>\n",
       "      <td>16.936223</td>\n",
       "      <td>42.938766</td>\n",
       "      <td>106.633653</td>\n",
       "      <td>326.079823</td>\n",
       "      <td>957.484624</td>\n",
       "      <td>3067.269305</td>\n",
       "    </tr>\n",
       "    <tr>\n",
       "      <th>...</th>\n",
       "      <td>...</td>\n",
       "      <td>...</td>\n",
       "      <td>...</td>\n",
       "      <td>...</td>\n",
       "      <td>...</td>\n",
       "      <td>...</td>\n",
       "      <td>...</td>\n",
       "      <td>...</td>\n",
       "      <td>...</td>\n",
       "    </tr>\n",
       "    <tr>\n",
       "      <th>95</th>\n",
       "      <td>0.628925</td>\n",
       "      <td>1.511681</td>\n",
       "      <td>6.948460</td>\n",
       "      <td>13.172124</td>\n",
       "      <td>42.288423</td>\n",
       "      <td>107.209117</td>\n",
       "      <td>321.793303</td>\n",
       "      <td>967.394947</td>\n",
       "      <td>3063.695556</td>\n",
       "    </tr>\n",
       "    <tr>\n",
       "      <th>96</th>\n",
       "      <td>0.093657</td>\n",
       "      <td>2.964367</td>\n",
       "      <td>3.237465</td>\n",
       "      <td>10.358930</td>\n",
       "      <td>45.762912</td>\n",
       "      <td>109.267326</td>\n",
       "      <td>343.573150</td>\n",
       "      <td>959.594298</td>\n",
       "      <td>3050.002704</td>\n",
       "    </tr>\n",
       "    <tr>\n",
       "      <th>97</th>\n",
       "      <td>0.513840</td>\n",
       "      <td>0.281643</td>\n",
       "      <td>6.394966</td>\n",
       "      <td>13.333370</td>\n",
       "      <td>43.831143</td>\n",
       "      <td>108.073335</td>\n",
       "      <td>333.669589</td>\n",
       "      <td>964.514878</td>\n",
       "      <td>3054.382633</td>\n",
       "    </tr>\n",
       "    <tr>\n",
       "      <th>98</th>\n",
       "      <td>0.209917</td>\n",
       "      <td>1.271766</td>\n",
       "      <td>6.991731</td>\n",
       "      <td>13.529227</td>\n",
       "      <td>43.115481</td>\n",
       "      <td>104.241988</td>\n",
       "      <td>326.699154</td>\n",
       "      <td>944.033134</td>\n",
       "      <td>3083.473123</td>\n",
       "    </tr>\n",
       "    <tr>\n",
       "      <th>99</th>\n",
       "      <td>0.164175</td>\n",
       "      <td>0.485211</td>\n",
       "      <td>6.179781</td>\n",
       "      <td>14.778864</td>\n",
       "      <td>44.013765</td>\n",
       "      <td>105.355929</td>\n",
       "      <td>324.932512</td>\n",
       "      <td>958.082341</td>\n",
       "      <td>3069.922275</td>\n",
       "    </tr>\n",
       "  </tbody>\n",
       "</table>\n",
       "<p>100 rows × 9 columns</p>\n",
       "</div>"
      ],
      "text/plain": [
       "      Gene 1    Gene 2    Gene 3     Gene 4     Gene 5      Gene 6  \\\n",
       "0   0.109854  2.720782  3.535385  12.874616  45.551599  110.030586   \n",
       "1   0.199255  0.210340  5.172939  15.272042  45.068107  110.081070   \n",
       "2   0.255513  1.376472  7.025949  11.961586  42.637731  100.624614   \n",
       "3   0.178783  2.329816  4.375157  16.595897  45.094219  111.648490   \n",
       "4   0.236692  1.657093  6.129715  16.936223  42.938766  106.633653   \n",
       "..       ...       ...       ...        ...        ...         ...   \n",
       "95  0.628925  1.511681  6.948460  13.172124  42.288423  107.209117   \n",
       "96  0.093657  2.964367  3.237465  10.358930  45.762912  109.267326   \n",
       "97  0.513840  0.281643  6.394966  13.333370  43.831143  108.073335   \n",
       "98  0.209917  1.271766  6.991731  13.529227  43.115481  104.241988   \n",
       "99  0.164175  0.485211  6.179781  14.778864  44.013765  105.355929   \n",
       "\n",
       "        Gene 7      Gene 8       Gene 9  \n",
       "0   340.665033  955.981629  3053.801167  \n",
       "1   329.065819  972.461709  3047.863438  \n",
       "2   326.284412  952.080428  3080.485325  \n",
       "3   327.776019  957.535278  3060.468843  \n",
       "4   326.079823  957.484624  3067.269305  \n",
       "..         ...         ...          ...  \n",
       "95  321.793303  967.394947  3063.695556  \n",
       "96  343.573150  959.594298  3050.002704  \n",
       "97  333.669589  964.514878  3054.382633  \n",
       "98  326.699154  944.033134  3083.473123  \n",
       "99  324.932512  958.082341  3069.922275  \n",
       "\n",
       "[100 rows x 9 columns]"
      ]
     },
     "execution_count": 62,
     "metadata": {},
     "output_type": "execute_result"
    }
   ],
   "source": [
    "imputed_rescaled_df"
   ]
  },
  {
   "cell_type": "code",
   "execution_count": 64,
   "id": "ba9f4bb3-c94d-4873-b986-04daf82efc23",
   "metadata": {},
   "outputs": [],
   "source": [
    "sc.pp.normalize_total(tenx_repr, target_sum=normalized_sum)\n",
    "sc.pp.normalize_total(imputed_rescaled, target_sum=normalized_sum)\n",
    "\n",
    "imputed_df = tenx_repr.to_df()\n",
    "imputed_rescaled_df = imputed_rescaled.to_df()\n",
    "merfish_df = merfish_repr.to_df()\n",
    "tenx_norm_df = tenx_norm.to_df()\n",
    "\n",
    "imputed_df[\"Model\"] = \"10x scRNA-seq Imputed\"\n",
    "imputed_rescaled_df[\"Model\"] = \"10x Imputed Rescaled\"\n",
    "tenx_norm_df[\"Model\"] = \"10x scRNA-seq\"\n",
    "merfish_df[\"Model\"] = \"MERFISH Normalized\"\n",
    "synth_cells[\"Model\"] = \"True cells\"\n",
    "\n",
    "after_imputation = pd.concat([imputed_rescaled_df,merfish_df, tenx_norm_df, synth_cells], ignore_index=True)"
   ]
  },
  {
   "cell_type": "code",
   "execution_count": 65,
   "id": "86327c62-6d47-484d-addf-6bd90db6c651",
   "metadata": {},
   "outputs": [
    {
     "data": {
      "text/plain": [
       "<AxesSubplot:xlabel='Gene 7', ylabel='Gene 8'>"
      ]
     },
     "execution_count": 65,
     "metadata": {},
     "output_type": "execute_result"
    },
    {
     "data": {
      "image/png": "[encoded data removed]",
      "text/plain": [
       "<Figure size 432x288 with 1 Axes>"
      ]
     },
     "metadata": {
      "needs_background": "light"
     },
     "output_type": "display_data"
    }
   ],
   "source": [
    "sns.scatterplot(data=after_imputation, x=\"Gene 7\", y =\"Gene 8\", hue=\"Model\", alpha=0.1, s=40)"
   ]
  },
  {
   "cell_type": "code",
   "execution_count": 66,
   "id": "f2be015b-e69a-4a1d-a5b5-723e72c50fa0",
   "metadata": {},
   "outputs": [
    {
     "data": {
      "text/plain": [
       "<AxesSubplot:xlabel='Gene 7', ylabel='Gene 8'>"
      ]
     },
     "execution_count": 66,
     "metadata": {},
     "output_type": "execute_result"
    },
    {
     "data": {
      "image/png": "[encoded data removed]",
      "text/plain": [
       "<Figure size 432x288 with 1 Axes>"
      ]
     },
     "metadata": {
      "needs_background": "light"
     },
     "output_type": "display_data"
    }
   ],
   "source": [
    "sns.kdeplot(data=after_imputation, x=\"Gene 7\", y =\"Gene 8\", hue=\"Model\", alpha=0.3, fill=True)"
   ]
  },
  {
   "cell_type": "markdown",
   "id": "b7a9be45-25f6-4bda-8dfb-f94b935f633f",
   "metadata": {},
   "source": [
    "## MERFISH vs. 10x (pre-imputation)"
   ]
  },
  {
   "cell_type": "markdown",
   "id": "d8aaaa77-e196-44e4-9c28-36355133441f",
   "metadata": {},
   "source": [
    "## Raw counts"
   ]
  },
  {
   "cell_type": "code",
   "execution_count": 198,
   "id": "f307f9de-865b-4e78-880d-83a31c23e5ea",
   "metadata": {},
   "outputs": [
    {
     "data": {
      "text/plain": [
       "<AxesSubplot:xlabel='Gene 5', ylabel='Gene 6'>"
      ]
     },
     "execution_count": 198,
     "metadata": {},
     "output_type": "execute_result"
    },
    {
     "data": {
      "image/png": "[encoded data removed]",
      "text/plain": [
       "<Figure size 432x288 with 1 Axes>"
      ]
     },
     "metadata": {
      "needs_background": "light"
     },
     "output_type": "display_data"
    }
   ],
   "source": [
    "sns.scatterplot(data=joint_data, x=\"Gene 5\", y =\"Gene 6\", hue=\"Model\")"
   ]
  },
  {
   "cell_type": "code",
   "execution_count": 223,
   "id": "61ab8b00-6cd4-4e0c-b11c-106bbd457a98",
   "metadata": {},
   "outputs": [
    {
     "data": {
      "text/plain": [
       "<AxesSubplot:xlabel='Gene 7', ylabel='Gene 8'>"
      ]
     },
     "execution_count": 223,
     "metadata": {},
     "output_type": "execute_result"
    },
    {
     "data": {
      "image/png": "[encoded data removed]",
      "text/plain": [
       "<Figure size 432x288 with 1 Axes>"
      ]
     },
     "metadata": {
      "needs_background": "light"
     },
     "output_type": "display_data"
    }
   ],
   "source": [
    "sns.scatterplot(data=before_imputation, x=\"Gene 7\", y =\"Gene 8\", hue=\"Model\", alpha=0.4, s=40)"
   ]
  },
  {
   "cell_type": "code",
   "execution_count": null,
   "id": "d0f9545d-fa27-4a7a-a1c3-bd183e996292",
   "metadata": {},
   "outputs": [],
   "source": []
  },
  {
   "cell_type": "code",
   "execution_count": null,
   "id": "d55cbe2f-a998-4041-9187-afeeb406dc8d",
   "metadata": {},
   "outputs": [],
   "source": []
  },
  {
   "cell_type": "code",
   "execution_count": null,
   "id": "f754670d-4d1f-4c98-b228-649b7bc221b7",
   "metadata": {},
   "outputs": [],
   "source": []
  }
 ],
 "metadata": {
  "kernelspec": {
   "display_name": "base",
   "language": "python",
   "name": "python3"
  },
  "language_info": {
   "codemirror_mode": {
    "name": "ipython",
    "version": 3
   },
   "file_extension": ".py",
   "mimetype": "text/x-python",
   "name": "python",
   "nbconvert_exporter": "python",
   "pygments_lexer": "ipython3",
   "version": "3.8.8 (default, Apr 13 2021, 12:59:45) \n[Clang 10.0.0 ]"
  },
  "vscode": {
   "interpreter": {
    "hash": "5bddb2961b68c1302a5caaca4fba94bc4fdad0d82e50c09d47052ed4bcd34ab6"
   }
  }
 },
 "nbformat": 4,
 "nbformat_minor": 5
}
